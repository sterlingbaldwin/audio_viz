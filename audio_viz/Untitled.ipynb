{
 "cells": [
  {
   "cell_type": "code",
   "execution_count": 1,
   "id": "72bfa880-a407-47b3-8b93-7a57434a6952",
   "metadata": {},
   "outputs": [],
   "source": [
    "from time import sleep\n",
    "from pprint import pprint\n",
    "from IPython.display import clear_output"
   ]
  },
  {
   "cell_type": "code",
   "execution_count": 16,
   "id": "156730cb-b84e-4308-82d1-71ea5fc5d7e9",
   "metadata": {},
   "outputs": [],
   "source": [
    "shape = (8, 10)\n",
    "wave_speed = 1.0\n",
    "cells = [[0 for _ in range(shape[1])] for _ in range(shape[0])]    \n",
    "cells[2][7] = 1"
   ]
  },
  {
   "cell_type": "code",
   "execution_count": 17,
   "id": "d7c2fd8b-fb2e-4f39-94fc-ae02a86d79f4",
   "metadata": {},
   "outputs": [],
   "source": [
    "changed = True\n",
    "while changed:\n",
    "    changed = False\n",
    "    pprint(cells)\n",
    "    to_update = []\n",
    "    for i in range(shape[0]):\n",
    "        for j in range(shape[1]):\n",
    "            if cells[i][j] == 0:\n",
    "                continue\n",
    "            if i != 0 and cells[i-1][j] == 0:\n",
    "                # print(f\"at [{i}][{j}] adding [{i-1}][{j}]\")\n",
    "                to_update.append({\n",
    "                    'val': cells[i-1][j],\n",
    "                    'x': i-1,\n",
    "                    'y': j\n",
    "                })\n",
    "            if i != shape[0]-1 and cells[i+1][j] == 0:\n",
    "                # print(f\"at [{i}][{j}]adding [{i+1}][{j}]\")\n",
    "                to_update.append({\n",
    "                    'val': cells[i+1][j],\n",
    "                    'x': i+1,\n",
    "                    'y': j\n",
    "                })\n",
    "            if j != 0 and cells[i][j-1] == 0:\n",
    "                # print(f\"at [{i}][{j}]adding [{i}][{j-1}]\")\n",
    "                to_update.append({\n",
    "                    'val': cells[i][j-1],\n",
    "                    'x': i,\n",
    "                    'y': j-1\n",
    "                })\n",
    "            if j != shape[1]-1 and cells[i][j+1] == 0:\n",
    "                # print(f\"at [{i}][{j}] adding [{i}][{j+1}]\")\n",
    "                to_update.append({\n",
    "                    'val': cells[i][j+1],\n",
    "                    'x': i,\n",
    "                    'y': j+1\n",
    "                })\n",
    "    for cell in to_update:\n",
    "        cells[ cell['x'] ][ cell['y'] ] = 1\n",
    "        changed = True\n",
    "\n",
    "    sleep(wave_speed)\n",
    "    clear_output()"
   ]
  },
  {
   "cell_type": "code",
   "execution_count": 20,
   "id": "172c141b-2bfa-4b70-ad29-eaa899f81d1a",
   "metadata": {},
   "outputs": [
    {
     "ename": "NameError",
     "evalue": "name 'l' is not defined",
     "output_type": "error",
     "traceback": [
      "\u001b[0;31m---------------------------------------------------------------------------\u001b[0m",
      "\u001b[0;31mNameError\u001b[0m                                 Traceback (most recent call last)",
      "Input \u001b[0;32mIn [20]\u001b[0m, in \u001b[0;36m<module>\u001b[0;34m\u001b[0m\n\u001b[0;32m----> 1\u001b[0m \u001b[43ml\u001b[49m[\u001b[38;5;241m3\u001b[39m]\n",
      "\u001b[0;31mNameError\u001b[0m: name 'l' is not defined"
     ]
    }
   ],
   "source": [
    "l[3] \n"
   ]
  },
  {
   "cell_type": "code",
   "execution_count": null,
   "id": "48794e2a-01fc-4b41-a8c7-7f1c89ca139f",
   "metadata": {},
   "outputs": [],
   "source": []
  }
 ],
 "metadata": {
  "kernelspec": {
   "display_name": "Python 3 (ipykernel)",
   "language": "python",
   "name": "python3"
  },
  "language_info": {
   "codemirror_mode": {
    "name": "ipython",
    "version": 3
   },
   "file_extension": ".py",
   "mimetype": "text/x-python",
   "name": "python",
   "nbconvert_exporter": "python",
   "pygments_lexer": "ipython3",
   "version": "3.10.2"
  }
 },
 "nbformat": 4,
 "nbformat_minor": 5
}
